{
 "cells": [
  {
   "cell_type": "code",
   "execution_count": 1,
   "metadata": {},
   "outputs": [
    {
     "name": "stdout",
     "output_type": "stream",
     "text": [
      "You quality!!!\n"
     ]
    }
   ],
   "source": [
    "// Conditionals are are the most basic control structure\n",
    "var creditScore = 720;\n",
    "if (creditScore >= 700) \n",
    "    console.log('You quality!!!');\n",
    "//Note that {}'s aren't required if the statement following the condition is only one line\n",
    "//Here we print you qualify only if the value held in the creditScore variable is greater than 700\n",
    "//if we change it, the condition evaluates to false and we don't get the you qualify statement\n",
    "creditScore = 680;\n",
    "if (creditScore >= 700) \n",
    "    console.log('You qualify'); //never executes because the conditional evaluates to false"
   ]
  },
  {
   "cell_type": "code",
   "execution_count": null,
   "metadata": {
    "collapsed": true
   },
   "outputs": [],
   "source": [
    "//so what's true?\n",
    "//true is always true\n",
    "if (true) \n",
    "    console.log('Yep it is');\n",
    "//everything that's not false is true\n",
    "if (false)\n",
    "    console.log('This line won\\'t execute');\n",
    "if (0)\n",
    "    console.log('This line won\\'t execute');\n",
    "if(\"\")\n",
    "    console.log('This line won\\'t execute');\n",
    "if (NaN)\n",
    "    console.log('This line won\\'t execute');\n",
    "if (null)\n",
    "    console.log('This line won\\'t execute');\n",
    "if (undefined)\n",
    "    console.log('This line won\\'t execute');\n"
   ]
  },
  {
   "cell_type": "code",
   "execution_count": null,
   "metadata": {
    "collapsed": true
   },
   "outputs": [],
   "source": [
    "//here's our comparison operators\n",
    "console.log(5 > 2);\n",
    "console.log(5 < 2);\n",
    "console.log(5 >= 2);\n",
    "console.log(5 <= 2);\n",
    "console.log(5 == 2);\n",
    "console.log(5 != 2);\n",
    "console.log(5 === 5);\n",
    "console.log(5 === '5'); //compares the type and the value\n",
    "console.log(5 !== 5);"
   ]
  },
  {
   "cell_type": "code",
   "execution_count": null,
   "metadata": {
    "collapsed": true
   },
   "outputs": [],
   "source": [
    "//you'll often need to use logical operators to combine your comparisons\n",
    "var x = 5;\n",
    "console.log((0 < x) && (x < 10)); //both must be true to get a true with an and expression\n",
    "console.log((0 < x) && (x > 10));\n",
    "console.log((0 > x) && (x < 10));\n",
    "\n",
    "console.log( (0 < x) || (x < 10)); //only one need be true with an or expression\n",
    "console.log( (0 < x) || (x > 10));"
   ]
  },
  {
   "cell_type": "code",
   "execution_count": null,
   "metadata": {
    "collapsed": true
   },
   "outputs": [],
   "source": [
    "// now the if else\n",
    "var creditScore = 720;\n",
    "if (creditScore >= 700) \n",
    "    console.log('You quality!!!');\n",
    "else\n",
    "    console.log('Hurry and become a JavaScript Ninja!');\n",
    "// make sure your if and else line up"
   ]
  },
  {
   "cell_type": "code",
   "execution_count": null,
   "metadata": {
    "collapsed": true
   },
   "outputs": [],
   "source": [
    "//we can handle multiple criteria\n",
    "if (gender == 'female'){\n",
    "    console.log('Girl');\n",
    "} else if (gender == 'male') {\n",
    "    console.log('Boy');\n",
    "} else {\n",
    "    console.log('Unspecified');\n",
    "}\n"
   ]
  },
  {
   "cell_type": "code",
   "execution_count": null,
   "metadata": {
    "collapsed": true
   },
   "outputs": [],
   "source": [
    "//switches are another way to write conditionals\n",
    "var sign = 'Libra';\n",
    "switch(sign) {\n",
    "    case 'Aquarius':\n",
    "        console.log(\"We're not a good match!\");\n",
    "        break;\n",
    "    case 'Pisces':\n",
    "        console.log(\"I can't even swim\");\n",
    "        break;\n",
    "    case 'Libra':\n",
    "        console.log(\"There's only room for one!\")\n",
    "        break;\n",
    "}"
   ]
  },
  {
   "cell_type": "code",
   "execution_count": null,
   "metadata": {
    "collapsed": true
   },
   "outputs": [],
   "source": [
    "//you try \n",
    "//create a variable called feePaid that holds a value of either 10.00, 15.00, 20.00, 25.00\n",
    "//if feePaid is 10.00 assign 'Basic' to a variable called membership\n",
    "//if feePaid is 15.00 assign 'Premium'\n",
    "//if feePaid is 20.00 assign 'Gold'\n",
    "//if feePaid is 25.00 assign 'Platinum\n",
    "var feePaid = 15.00;\n",
    "\n",
    "//your code here\n",
    "\n",
    "console.log(membership) //should display Premium"
   ]
  },
  {
   "cell_type": "code",
   "execution_count": null,
   "metadata": {
    "collapsed": true
   },
   "outputs": [],
   "source": [
    "//the ternary operator does this\n",
    "// (condition) ? return_if_true : return_if_false;\n",
    "var n = 6;\n",
    "var even = ((n%2) === 0) ? true : false; //will return true if n is even false if not, try changing the value of n and run it again"
   ]
  },
  {
   "cell_type": "code",
   "execution_count": 4,
   "metadata": {},
   "outputs": [
    {
     "name": "stdout",
     "output_type": "stream",
     "text": [
      "1\n",
      "10\n"
     ]
    }
   ],
   "source": [
    "//In Javascript you will see a lot of code that uses a conditional to default a value\n",
    "\n",
    "y = undefined;\n",
    "var x = y || 1; //if y doesn't have a value make it 1\n",
    "console.log(x);\n",
    "y = 10;\n",
    "x = y || 1; \n",
    "console.log(x);"
   ]
  },
  {
   "cell_type": "code",
   "execution_count": null,
   "metadata": {
    "collapsed": true
   },
   "outputs": [],
   "source": []
  }
 ],
 "metadata": {
  "kernelspec": {
   "display_name": "Javascript (Node.js)",
   "language": "javascript",
   "name": "javascript"
  },
  "language_info": {
   "file_extension": ".js",
   "mimetype": "application/javascript",
   "name": "javascript",
   "version": "8.9.4"
  }
 },
 "nbformat": 4,
 "nbformat_minor": 2
}
